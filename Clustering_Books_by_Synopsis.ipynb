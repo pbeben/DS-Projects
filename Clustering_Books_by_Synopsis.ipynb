{
  "cells": [
    {
      "cell_type": "markdown",
      "id": "92d2674a",
      "metadata": {
        "id": "92d2674a"
      },
      "source": [
        "### Clustering Popular Goodreads Books\n",
        "\n",
        "In this notebook, we'll use NLP and clustering techniques in order to explore potentail groupings of the most reviewd books from Goodreads.\n",
        "\n",
        "Original 10k Goodreads Book Dataset:https://github.com/zygmuntz/goodbooks-10k\n",
        "\n",
        "10k-Enriched Dataset: https://github.com/malcolmosh/goodbooks-10k-extended"
      ]
    },
    {
      "cell_type": "code",
      "execution_count": null,
      "id": "f814fe82",
      "metadata": {
        "scrolled": true,
        "colab": {
          "base_uri": "https://localhost:8080/"
        },
        "id": "f814fe82",
        "outputId": "9e49cc39-f05f-451e-9680-ef694a5568b4"
      },
      "outputs": [
        {
          "output_type": "stream",
          "name": "stderr",
          "text": [
            "[nltk_data] Downloading package punkt to /root/nltk_data...\n",
            "[nltk_data]   Package punkt is already up-to-date!\n",
            "[nltk_data] Downloading package wordnet to /root/nltk_data...\n",
            "[nltk_data]   Package wordnet is already up-to-date!\n",
            "[nltk_data] Downloading package stopwords to /root/nltk_data...\n",
            "[nltk_data]   Package stopwords is already up-to-date!\n",
            "[nltk_data] Downloading package omw-1.4 to /root/nltk_data...\n",
            "[nltk_data]   Package omw-1.4 is already up-to-date!\n"
          ]
        },
        {
          "output_type": "stream",
          "name": "stdout",
          "text": [
            "Looking in indexes: https://pypi.org/simple, https://us-python.pkg.dev/colab-wheels/public/simple/\n",
            "Requirement already satisfied: umap-learn in /usr/local/lib/python3.7/dist-packages (0.5.3)\n",
            "Requirement already satisfied: scipy>=1.0 in /usr/local/lib/python3.7/dist-packages (from umap-learn) (1.4.1)\n",
            "Requirement already satisfied: numpy>=1.17 in /usr/local/lib/python3.7/dist-packages (from umap-learn) (1.21.6)\n",
            "Requirement already satisfied: tqdm in /usr/local/lib/python3.7/dist-packages (from umap-learn) (4.64.0)\n",
            "Requirement already satisfied: numba>=0.49 in /usr/local/lib/python3.7/dist-packages (from umap-learn) (0.51.2)\n",
            "Requirement already satisfied: scikit-learn>=0.22 in /usr/local/lib/python3.7/dist-packages (from umap-learn) (1.0.2)\n",
            "Requirement already satisfied: pynndescent>=0.5 in /usr/local/lib/python3.7/dist-packages (from umap-learn) (0.5.7)\n",
            "Requirement already satisfied: llvmlite<0.35,>=0.34.0.dev0 in /usr/local/lib/python3.7/dist-packages (from numba>=0.49->umap-learn) (0.34.0)\n",
            "Requirement already satisfied: setuptools in /usr/local/lib/python3.7/dist-packages (from numba>=0.49->umap-learn) (57.4.0)\n",
            "Requirement already satisfied: joblib>=0.11 in /usr/local/lib/python3.7/dist-packages (from pynndescent>=0.5->umap-learn) (1.1.0)\n",
            "Requirement already satisfied: threadpoolctl>=2.0.0 in /usr/local/lib/python3.7/dist-packages (from scikit-learn>=0.22->umap-learn) (3.1.0)\n"
          ]
        }
      ],
      "source": [
        "import pandas as pd\n",
        "import numpy as np\n",
        "import matplotlib.pyplot as plt\n",
        "import seaborn as sns\n",
        "\n",
        "import re\n",
        "import os\n",
        "\n",
        "import nltk\n",
        "from nltk.tokenize import word_tokenize\n",
        "from nltk import PorterStemmer\n",
        "from nltk import WordNetLemmatizer\n",
        "from nltk.corpus import stopwords\n",
        "\n",
        "# download tokenizer info\n",
        "nltk.download('punkt')\n",
        "# download lemmatizer info\n",
        "nltk.download('wordnet')\n",
        "# download stopwords\n",
        "nltk.download('stopwords')\n",
        "\n",
        "nltk.download('omw-1.4')\n",
        "\n",
        "from sklearn.feature_extraction.text import CountVectorizer, TfidfVectorizer\n",
        "from sklearn.model_selection import train_test_split\n",
        "\n",
        "from sklearn.preprocessing import StandardScaler\n",
        "from sklearn.cluster import MiniBatchKMeans\n",
        "from sklearn import metrics\n",
        "\n",
        "\n",
        "# Dimensionality Reduction\n",
        "from sklearn.decomposition import PCA\n",
        "from sklearn.manifold import TSNE\n",
        "!pip install umap-learn\n",
        "import umap\n",
        "\n",
        "\n",
        "# Clustering Models\n",
        "from sklearn.cluster import KMeans\n",
        "from sklearn.cluster import AgglomerativeClustering\n",
        "from sklearn.cluster import DBSCAN\n",
        "from sklearn.mixture import GaussianMixture\n",
        "\n",
        "import warnings\n",
        "warnings.filterwarnings('ignore')"
      ]
    },
    {
      "cell_type": "code",
      "execution_count": null,
      "id": "4e17ae9d",
      "metadata": {
        "scrolled": false,
        "colab": {
          "base_uri": "https://localhost:8080/"
        },
        "id": "4e17ae9d",
        "outputId": "006745b0-a7a6-4214-82ab-6a116df98af1"
      },
      "outputs": [
        {
          "output_type": "stream",
          "name": "stdout",
          "text": [
            "Looking in indexes: https://pypi.org/simple, https://us-python.pkg.dev/colab-wheels/public/simple/\n",
            "Requirement already satisfied: WordCloud in /usr/local/lib/python3.7/dist-packages (1.5.0)\n",
            "Requirement already satisfied: pillow in /usr/local/lib/python3.7/dist-packages (from WordCloud) (7.1.2)\n",
            "Requirement already satisfied: numpy>=1.6.1 in /usr/local/lib/python3.7/dist-packages (from WordCloud) (1.21.6)\n"
          ]
        }
      ],
      "source": [
        "!pip install WordCloud\n",
        "from wordcloud import WordCloud"
      ]
    },
    {
      "cell_type": "code",
      "execution_count": null,
      "id": "59c95462",
      "metadata": {
        "id": "59c95462"
      },
      "outputs": [],
      "source": [
        "# load the original and enriched versions of the dataset\n",
        "\n",
        "books = pd.read_csv('https://github.com/zygmuntz/goodbooks-10k/releases/download/v1.0/books.zip')\n",
        "books_enriched = pd.read_csv('https://raw.githubusercontent.com/malcolmosh/goodbooks-10k/master/books_enriched.csv')\n",
        "right_columns = books_enriched.columns.difference(books.columns).append(pd.Index(['book_id']))\n",
        "\n",
        "# merge the two keeping only unique columns\n",
        "df = books.merge(books_enriched[right_columns], how='outer', on='book_id', suffixes=('','')).copy()"
      ]
    },
    {
      "cell_type": "code",
      "execution_count": null,
      "id": "9ed89360",
      "metadata": {
        "scrolled": true,
        "id": "9ed89360"
      },
      "outputs": [],
      "source": [
        "# drop any book that isn't labeled with an English language code\n",
        "df = df[df['language_code'].isin(['eng', 'en-US', 'en-GB', 'en-CA', 'en'])]"
      ]
    },
    {
      "cell_type": "code",
      "execution_count": null,
      "id": "44d129b5",
      "metadata": {
        "scrolled": false,
        "colab": {
          "base_uri": "https://localhost:8080/",
          "height": 285
        },
        "id": "44d129b5",
        "outputId": "f476f407-a738-480b-a5eb-425dc94c29dd"
      },
      "outputs": [
        {
          "output_type": "execute_result",
          "data": {
            "text/plain": [
              "   book_id                            original_title  \\\n",
              "0        1                          The Hunger Games   \n",
              "1        2  Harry Potter and the Philosopher's Stone   \n",
              "2        3                                  Twilight   \n",
              "3        4                     To Kill a Mockingbird   \n",
              "4        5                          The Great Gatsby   \n",
              "\n",
              "                                         description  \n",
              "0  WINNING MEANS FAME AND FORTUNE.LOSING MEANS CE...  \n",
              "1  Harry Potter's life is miserable. His parents ...  \n",
              "2  About three things I was absolutely positive.\\...  \n",
              "3  The unforgettable novel of a childhood in a sl...  \n",
              "4  Alternate Cover Edition ISBN: 0743273567 (ISBN...  "
            ],
            "text/html": [
              "\n",
              "  <div id=\"df-03fccd6f-b9c8-4a15-bf1c-e617d0d0cc09\">\n",
              "    <div class=\"colab-df-container\">\n",
              "      <div>\n",
              "<style scoped>\n",
              "    .dataframe tbody tr th:only-of-type {\n",
              "        vertical-align: middle;\n",
              "    }\n",
              "\n",
              "    .dataframe tbody tr th {\n",
              "        vertical-align: top;\n",
              "    }\n",
              "\n",
              "    .dataframe thead th {\n",
              "        text-align: right;\n",
              "    }\n",
              "</style>\n",
              "<table border=\"1\" class=\"dataframe\">\n",
              "  <thead>\n",
              "    <tr style=\"text-align: right;\">\n",
              "      <th></th>\n",
              "      <th>book_id</th>\n",
              "      <th>original_title</th>\n",
              "      <th>description</th>\n",
              "    </tr>\n",
              "  </thead>\n",
              "  <tbody>\n",
              "    <tr>\n",
              "      <th>0</th>\n",
              "      <td>1</td>\n",
              "      <td>The Hunger Games</td>\n",
              "      <td>WINNING MEANS FAME AND FORTUNE.LOSING MEANS CE...</td>\n",
              "    </tr>\n",
              "    <tr>\n",
              "      <th>1</th>\n",
              "      <td>2</td>\n",
              "      <td>Harry Potter and the Philosopher's Stone</td>\n",
              "      <td>Harry Potter's life is miserable. His parents ...</td>\n",
              "    </tr>\n",
              "    <tr>\n",
              "      <th>2</th>\n",
              "      <td>3</td>\n",
              "      <td>Twilight</td>\n",
              "      <td>About three things I was absolutely positive.\\...</td>\n",
              "    </tr>\n",
              "    <tr>\n",
              "      <th>3</th>\n",
              "      <td>4</td>\n",
              "      <td>To Kill a Mockingbird</td>\n",
              "      <td>The unforgettable novel of a childhood in a sl...</td>\n",
              "    </tr>\n",
              "    <tr>\n",
              "      <th>4</th>\n",
              "      <td>5</td>\n",
              "      <td>The Great Gatsby</td>\n",
              "      <td>Alternate Cover Edition ISBN: 0743273567 (ISBN...</td>\n",
              "    </tr>\n",
              "  </tbody>\n",
              "</table>\n",
              "</div>\n",
              "      <button class=\"colab-df-convert\" onclick=\"convertToInteractive('df-03fccd6f-b9c8-4a15-bf1c-e617d0d0cc09')\"\n",
              "              title=\"Convert this dataframe to an interactive table.\"\n",
              "              style=\"display:none;\">\n",
              "        \n",
              "  <svg xmlns=\"http://www.w3.org/2000/svg\" height=\"24px\"viewBox=\"0 0 24 24\"\n",
              "       width=\"24px\">\n",
              "    <path d=\"M0 0h24v24H0V0z\" fill=\"none\"/>\n",
              "    <path d=\"M18.56 5.44l.94 2.06.94-2.06 2.06-.94-2.06-.94-.94-2.06-.94 2.06-2.06.94zm-11 1L8.5 8.5l.94-2.06 2.06-.94-2.06-.94L8.5 2.5l-.94 2.06-2.06.94zm10 10l.94 2.06.94-2.06 2.06-.94-2.06-.94-.94-2.06-.94 2.06-2.06.94z\"/><path d=\"M17.41 7.96l-1.37-1.37c-.4-.4-.92-.59-1.43-.59-.52 0-1.04.2-1.43.59L10.3 9.45l-7.72 7.72c-.78.78-.78 2.05 0 2.83L4 21.41c.39.39.9.59 1.41.59.51 0 1.02-.2 1.41-.59l7.78-7.78 2.81-2.81c.8-.78.8-2.07 0-2.86zM5.41 20L4 18.59l7.72-7.72 1.47 1.35L5.41 20z\"/>\n",
              "  </svg>\n",
              "      </button>\n",
              "      \n",
              "  <style>\n",
              "    .colab-df-container {\n",
              "      display:flex;\n",
              "      flex-wrap:wrap;\n",
              "      gap: 12px;\n",
              "    }\n",
              "\n",
              "    .colab-df-convert {\n",
              "      background-color: #E8F0FE;\n",
              "      border: none;\n",
              "      border-radius: 50%;\n",
              "      cursor: pointer;\n",
              "      display: none;\n",
              "      fill: #1967D2;\n",
              "      height: 32px;\n",
              "      padding: 0 0 0 0;\n",
              "      width: 32px;\n",
              "    }\n",
              "\n",
              "    .colab-df-convert:hover {\n",
              "      background-color: #E2EBFA;\n",
              "      box-shadow: 0px 1px 2px rgba(60, 64, 67, 0.3), 0px 1px 3px 1px rgba(60, 64, 67, 0.15);\n",
              "      fill: #174EA6;\n",
              "    }\n",
              "\n",
              "    [theme=dark] .colab-df-convert {\n",
              "      background-color: #3B4455;\n",
              "      fill: #D2E3FC;\n",
              "    }\n",
              "\n",
              "    [theme=dark] .colab-df-convert:hover {\n",
              "      background-color: #434B5C;\n",
              "      box-shadow: 0px 1px 3px 1px rgba(0, 0, 0, 0.15);\n",
              "      filter: drop-shadow(0px 1px 2px rgba(0, 0, 0, 0.3));\n",
              "      fill: #FFFFFF;\n",
              "    }\n",
              "  </style>\n",
              "\n",
              "      <script>\n",
              "        const buttonEl =\n",
              "          document.querySelector('#df-03fccd6f-b9c8-4a15-bf1c-e617d0d0cc09 button.colab-df-convert');\n",
              "        buttonEl.style.display =\n",
              "          google.colab.kernel.accessAllowed ? 'block' : 'none';\n",
              "\n",
              "        async function convertToInteractive(key) {\n",
              "          const element = document.querySelector('#df-03fccd6f-b9c8-4a15-bf1c-e617d0d0cc09');\n",
              "          const dataTable =\n",
              "            await google.colab.kernel.invokeFunction('convertToInteractive',\n",
              "                                                     [key], {});\n",
              "          if (!dataTable) return;\n",
              "\n",
              "          const docLinkHtml = 'Like what you see? Visit the ' +\n",
              "            '<a target=\"_blank\" href=https://colab.research.google.com/notebooks/data_table.ipynb>data table notebook</a>'\n",
              "            + ' to learn more about interactive tables.';\n",
              "          element.innerHTML = '';\n",
              "          dataTable['output_type'] = 'display_data';\n",
              "          await google.colab.output.renderOutput(dataTable, element);\n",
              "          const docLink = document.createElement('div');\n",
              "          docLink.innerHTML = docLinkHtml;\n",
              "          element.appendChild(docLink);\n",
              "        }\n",
              "      </script>\n",
              "    </div>\n",
              "  </div>\n",
              "  "
            ]
          },
          "metadata": {},
          "execution_count": 5
        }
      ],
      "source": [
        "# pare down the dataframe to just the appropriate columns\n",
        "df = pd.DataFrame(df[['book_id', 'original_title','description']].copy())\n",
        "\n",
        "df.dropna(inplace=True)\n",
        "\n",
        "df.head()"
      ]
    },
    {
      "cell_type": "code",
      "execution_count": null,
      "id": "1865e066",
      "metadata": {
        "scrolled": false,
        "colab": {
          "base_uri": "https://localhost:8080/",
          "height": 285
        },
        "id": "1865e066",
        "outputId": "b4d4f488-0493-4990-a762-03ba27d659bb"
      },
      "outputs": [
        {
          "output_type": "execute_result",
          "data": {
            "text/plain": [
              "   book_id                            original_title  \\\n",
              "0        1                          The Hunger Games   \n",
              "1        2  Harry Potter and the Philosopher's Stone   \n",
              "2        3                                  Twilight   \n",
              "3        4                     To Kill a Mockingbird   \n",
              "4        5                          The Great Gatsby   \n",
              "\n",
              "                                         description  \n",
              "0  win mean fame and fortun lose mean certain dea...  \n",
              "1  harri potter s life is miser hi parent are dea...  \n",
              "2  about three thing i wa absolut posit first edw...  \n",
              "3  the unforgett novel of a childhood in a sleepi...  \n",
              "4  altern cover edit isbn isbn the great gatsbi f...  "
            ],
            "text/html": [
              "\n",
              "  <div id=\"df-eab30ca1-11d5-4d2a-a69e-1e57b1e5319d\">\n",
              "    <div class=\"colab-df-container\">\n",
              "      <div>\n",
              "<style scoped>\n",
              "    .dataframe tbody tr th:only-of-type {\n",
              "        vertical-align: middle;\n",
              "    }\n",
              "\n",
              "    .dataframe tbody tr th {\n",
              "        vertical-align: top;\n",
              "    }\n",
              "\n",
              "    .dataframe thead th {\n",
              "        text-align: right;\n",
              "    }\n",
              "</style>\n",
              "<table border=\"1\" class=\"dataframe\">\n",
              "  <thead>\n",
              "    <tr style=\"text-align: right;\">\n",
              "      <th></th>\n",
              "      <th>book_id</th>\n",
              "      <th>original_title</th>\n",
              "      <th>description</th>\n",
              "    </tr>\n",
              "  </thead>\n",
              "  <tbody>\n",
              "    <tr>\n",
              "      <th>0</th>\n",
              "      <td>1</td>\n",
              "      <td>The Hunger Games</td>\n",
              "      <td>win mean fame and fortun lose mean certain dea...</td>\n",
              "    </tr>\n",
              "    <tr>\n",
              "      <th>1</th>\n",
              "      <td>2</td>\n",
              "      <td>Harry Potter and the Philosopher's Stone</td>\n",
              "      <td>harri potter s life is miser hi parent are dea...</td>\n",
              "    </tr>\n",
              "    <tr>\n",
              "      <th>2</th>\n",
              "      <td>3</td>\n",
              "      <td>Twilight</td>\n",
              "      <td>about three thing i wa absolut posit first edw...</td>\n",
              "    </tr>\n",
              "    <tr>\n",
              "      <th>3</th>\n",
              "      <td>4</td>\n",
              "      <td>To Kill a Mockingbird</td>\n",
              "      <td>the unforgett novel of a childhood in a sleepi...</td>\n",
              "    </tr>\n",
              "    <tr>\n",
              "      <th>4</th>\n",
              "      <td>5</td>\n",
              "      <td>The Great Gatsby</td>\n",
              "      <td>altern cover edit isbn isbn the great gatsbi f...</td>\n",
              "    </tr>\n",
              "  </tbody>\n",
              "</table>\n",
              "</div>\n",
              "      <button class=\"colab-df-convert\" onclick=\"convertToInteractive('df-eab30ca1-11d5-4d2a-a69e-1e57b1e5319d')\"\n",
              "              title=\"Convert this dataframe to an interactive table.\"\n",
              "              style=\"display:none;\">\n",
              "        \n",
              "  <svg xmlns=\"http://www.w3.org/2000/svg\" height=\"24px\"viewBox=\"0 0 24 24\"\n",
              "       width=\"24px\">\n",
              "    <path d=\"M0 0h24v24H0V0z\" fill=\"none\"/>\n",
              "    <path d=\"M18.56 5.44l.94 2.06.94-2.06 2.06-.94-2.06-.94-.94-2.06-.94 2.06-2.06.94zm-11 1L8.5 8.5l.94-2.06 2.06-.94-2.06-.94L8.5 2.5l-.94 2.06-2.06.94zm10 10l.94 2.06.94-2.06 2.06-.94-2.06-.94-.94-2.06-.94 2.06-2.06.94z\"/><path d=\"M17.41 7.96l-1.37-1.37c-.4-.4-.92-.59-1.43-.59-.52 0-1.04.2-1.43.59L10.3 9.45l-7.72 7.72c-.78.78-.78 2.05 0 2.83L4 21.41c.39.39.9.59 1.41.59.51 0 1.02-.2 1.41-.59l7.78-7.78 2.81-2.81c.8-.78.8-2.07 0-2.86zM5.41 20L4 18.59l7.72-7.72 1.47 1.35L5.41 20z\"/>\n",
              "  </svg>\n",
              "      </button>\n",
              "      \n",
              "  <style>\n",
              "    .colab-df-container {\n",
              "      display:flex;\n",
              "      flex-wrap:wrap;\n",
              "      gap: 12px;\n",
              "    }\n",
              "\n",
              "    .colab-df-convert {\n",
              "      background-color: #E8F0FE;\n",
              "      border: none;\n",
              "      border-radius: 50%;\n",
              "      cursor: pointer;\n",
              "      display: none;\n",
              "      fill: #1967D2;\n",
              "      height: 32px;\n",
              "      padding: 0 0 0 0;\n",
              "      width: 32px;\n",
              "    }\n",
              "\n",
              "    .colab-df-convert:hover {\n",
              "      background-color: #E2EBFA;\n",
              "      box-shadow: 0px 1px 2px rgba(60, 64, 67, 0.3), 0px 1px 3px 1px rgba(60, 64, 67, 0.15);\n",
              "      fill: #174EA6;\n",
              "    }\n",
              "\n",
              "    [theme=dark] .colab-df-convert {\n",
              "      background-color: #3B4455;\n",
              "      fill: #D2E3FC;\n",
              "    }\n",
              "\n",
              "    [theme=dark] .colab-df-convert:hover {\n",
              "      background-color: #434B5C;\n",
              "      box-shadow: 0px 1px 3px 1px rgba(0, 0, 0, 0.15);\n",
              "      filter: drop-shadow(0px 1px 2px rgba(0, 0, 0, 0.3));\n",
              "      fill: #FFFFFF;\n",
              "    }\n",
              "  </style>\n",
              "\n",
              "      <script>\n",
              "        const buttonEl =\n",
              "          document.querySelector('#df-eab30ca1-11d5-4d2a-a69e-1e57b1e5319d button.colab-df-convert');\n",
              "        buttonEl.style.display =\n",
              "          google.colab.kernel.accessAllowed ? 'block' : 'none';\n",
              "\n",
              "        async function convertToInteractive(key) {\n",
              "          const element = document.querySelector('#df-eab30ca1-11d5-4d2a-a69e-1e57b1e5319d');\n",
              "          const dataTable =\n",
              "            await google.colab.kernel.invokeFunction('convertToInteractive',\n",
              "                                                     [key], {});\n",
              "          if (!dataTable) return;\n",
              "\n",
              "          const docLinkHtml = 'Like what you see? Visit the ' +\n",
              "            '<a target=\"_blank\" href=https://colab.research.google.com/notebooks/data_table.ipynb>data table notebook</a>'\n",
              "            + ' to learn more about interactive tables.';\n",
              "          element.innerHTML = '';\n",
              "          dataTable['output_type'] = 'display_data';\n",
              "          await google.colab.output.renderOutput(dataTable, element);\n",
              "          const docLink = document.createElement('div');\n",
              "          docLink.innerHTML = docLinkHtml;\n",
              "          element.appendChild(docLink);\n",
              "        }\n",
              "      </script>\n",
              "    </div>\n",
              "  </div>\n",
              "  "
            ]
          },
          "metadata": {},
          "execution_count": 6
        }
      ],
      "source": [
        "# remove non alphabet characters\n",
        "df['description'] = df['description'].str.replace(r'[^a-zA-Z]', ' ', regex=True)\n",
        "\n",
        "#apply tokenizer\n",
        "df['description'] = df['description'].apply(word_tokenize)\n",
        "\n",
        "ps = PorterStemmer()\n",
        "df['description'] = df['description'].apply(lambda row: [ps.stem(word) for word in row])\n",
        "\n",
        "lemmatizer = WordNetLemmatizer()\n",
        "df['description'] = df['description'].apply(lambda row:[lemmatizer.lemmatize(word) for word in row])\n",
        "\n",
        "df['description'] = df['description'].apply(lambda word: ' '.join(word))\n",
        "\n",
        "\n",
        "df.head()"
      ]
    },
    {
      "cell_type": "markdown",
      "id": "143bba17",
      "metadata": {
        "id": "143bba17"
      },
      "source": [
        "We'll use a simple bag-of-words representation of our book descriptions."
      ]
    },
    {
      "cell_type": "code",
      "execution_count": null,
      "id": "3042c07f",
      "metadata": {
        "id": "3042c07f"
      },
      "outputs": [],
      "source": [
        "max_words = 10000\n",
        "\n",
        "cv = TfidfVectorizer(max_features=max_words, stop_words='english')\n",
        "\n",
        "matrix = cv.fit_transform(df['description']).toarray()"
      ]
    },
    {
      "cell_type": "code",
      "execution_count": null,
      "id": "1462abaf",
      "metadata": {
        "id": "1462abaf"
      },
      "outputs": [],
      "source": [
        "# concatenate descriptions and tokenize into words\n",
        "descriptions = df['description'].str.cat(sep=' ')\n",
        "words = nltk.tokenize.word_tokenize(descriptions)\n",
        "\n",
        "# filter out English stopwords\n",
        "stop_words = set(stopwords.words('english'))\n",
        "filtered_words = [w for w in words if not w in stop_words]\n",
        "\n",
        "# get the frequency of words and sort by the most common\n",
        "word_dist = nltk.FreqDist(filtered_words)\n",
        "word_dist = {k: v for k, v in sorted(word_dist.items(), key=lambda item: item[1], reverse=True)}\n"
      ]
    },
    {
      "cell_type": "code",
      "execution_count": null,
      "id": "804004f5",
      "metadata": {
        "scrolled": true,
        "colab": {
          "base_uri": "https://localhost:8080/",
          "height": 269
        },
        "id": "804004f5",
        "outputId": "a97cd70c-da2a-457c-98d3-46e2e20196a0"
      },
      "outputs": [
        {
          "output_type": "display_data",
          "data": {
            "text/plain": [
              "<Figure size 432x288 with 1 Axes>"
            ],
            "image/png": "[encoded data removed]"
          },
          "metadata": {
            "needs_background": "light"
          }
        }
      ],
      "source": [
        "wc = WordCloud(background_color=\"white\",width=3000,height=3000, max_words=25,relative_scaling=0.5,normalize_plurals=False).generate_from_frequencies(word_dist)\n",
        "plt.imshow(wc)\n",
        "plt.show()\n"
      ]
    },
    {
      "cell_type": "code",
      "execution_count": null,
      "id": "34d0d70f",
      "metadata": {
        "colab": {
          "base_uri": "https://localhost:8080/"
        },
        "id": "34d0d70f",
        "outputId": "cd7ac950-0c15-4bb7-8534-aeea411054fd"
      },
      "outputs": [
        {
          "output_type": "stream",
          "name": "stdout",
          "text": [
            "hi 11743\n",
            "ha 6270\n",
            "one 5506\n",
            "thi 4754\n",
            "life 4366\n",
            "new 4153\n",
            "world 3753\n",
            "wa 3541\n",
            "love 3387\n",
            "time 3235\n"
          ]
        }
      ],
      "source": [
        "for k, v in list(word_dist.items())[:10]:\n",
        "    print(k, v)"
      ]
    },
    {
      "cell_type": "markdown",
      "id": "dcb5bcb0",
      "metadata": {
        "id": "dcb5bcb0"
      },
      "source": [
        "From our list of most common words in the initial descriptions include some words you would expect when describing dramatic stories like live, love, and world."
      ]
    },
    {
      "cell_type": "markdown",
      "id": "240a361b",
      "metadata": {
        "id": "240a361b"
      },
      "source": [
        "## Dimensionality Reduction\n",
        "\n",
        "We'll now run through some algorithms to assess the best approach for dimenstion reduction."
      ]
    },
    {
      "cell_type": "code",
      "execution_count": null,
      "id": "3bb65e84",
      "metadata": {
        "scrolled": true,
        "colab": {
          "base_uri": "https://localhost:8080/"
        },
        "id": "3bb65e84",
        "outputId": "6c312839-9937-474e-d6ff-e40865941cc8"
      },
      "outputs": [
        {
          "output_type": "stream",
          "name": "stdout",
          "text": [
            "(8204, 10000)\n"
          ]
        }
      ],
      "source": [
        "df_cv = pd.DataFrame(matrix)\n",
        "print(df_cv.shape)"
      ]
    },
    {
      "cell_type": "code",
      "execution_count": null,
      "id": "5c02a877",
      "metadata": {
        "id": "5c02a877"
      },
      "outputs": [],
      "source": [
        "pca = PCA(n_components = 4)\n",
        "pca_components = pca.fit_transform(df_cv)"
      ]
    },
    {
      "cell_type": "code",
      "execution_count": null,
      "id": "ce0ceb8b",
      "metadata": {
        "scrolled": true,
        "colab": {
          "base_uri": "https://localhost:8080/",
          "height": 336
        },
        "id": "ce0ceb8b",
        "outputId": "e777aca4-923d-4e38-9402-84a0ff7f187d"
      },
      "outputs": [
        {
          "output_type": "display_data",
          "data": {
            "text/plain": [
              "<Figure size 720x360 with 1 Axes>"
            ],
            "image/png": "[encoded data removed]"
          },
          "metadata": {
            "needs_background": "light"
          }
        }
      ],
      "source": [
        "plt.figure(figsize=(10,5))\n",
        "plt.scatter(pca_components[:, 0], pca_components[:, 1])\n",
        "#plt.xticks([])\n",
        "#plt.yticks([])\n",
        "plt.axis('on')\n",
        "plt.title('PCA Dimensional Reduction')\n",
        "plt.show()"
      ]
    },
    {
      "cell_type": "markdown",
      "id": "62a60515",
      "metadata": {
        "id": "62a60515"
      },
      "source": [
        "The two dimensional PCA composition does not lend itself to any clear clusters. It's a tight cloud that slowly dissapates around the edges."
      ]
    },
    {
      "cell_type": "code",
      "execution_count": null,
      "id": "25a61cb4",
      "metadata": {
        "scrolled": true,
        "colab": {
          "base_uri": "https://localhost:8080/"
        },
        "id": "25a61cb4",
        "outputId": "a1292ba0-09a0-4721-e212-8ff843b8d057"
      },
      "outputs": [
        {
          "output_type": "stream",
          "name": "stdout",
          "text": [
            "[t-SNE] Computing 121 nearest neighbors...\n",
            "[t-SNE] Indexed 8204 samples in 0.061s...\n",
            "[t-SNE] Computed neighbors for 8204 samples in 20.346s...\n",
            "[t-SNE] Computed conditional probabilities for sample 1000 / 8204\n",
            "[t-SNE] Computed conditional probabilities for sample 2000 / 8204\n",
            "[t-SNE] Computed conditional probabilities for sample 3000 / 8204\n",
            "[t-SNE] Computed conditional probabilities for sample 4000 / 8204\n",
            "[t-SNE] Computed conditional probabilities for sample 5000 / 8204\n",
            "[t-SNE] Computed conditional probabilities for sample 6000 / 8204\n",
            "[t-SNE] Computed conditional probabilities for sample 7000 / 8204\n",
            "[t-SNE] Computed conditional probabilities for sample 8000 / 8204\n",
            "[t-SNE] Computed conditional probabilities for sample 8204 / 8204\n",
            "[t-SNE] Mean sigma: 0.485570\n",
            "[t-SNE] KL divergence after 250 iterations with early exaggeration: 162.351410\n",
            "[t-SNE] KL divergence after 251 iterations: 179769313486231570814527423731704356798070567525844996598917476803157260780028538760589558632766878171540458953514382464234321326889464182768467546703537516986049910576551282076245490090389328944075868508455133942304583236903222948165808559332123348274797826204144723168738177180919299881250404026184124858368.000000\n"
          ]
        }
      ],
      "source": [
        "tsne = TSNE(n_components=2, verbose=1, perplexity=40, n_iter=250)\n",
        "tsne_results = tsne.fit_transform(df_cv)"
      ]
    },
    {
      "cell_type": "code",
      "execution_count": null,
      "id": "f440d77e",
      "metadata": {
        "scrolled": true,
        "colab": {
          "base_uri": "https://localhost:8080/",
          "height": 303
        },
        "id": "f440d77e",
        "outputId": "48c8dcd7-a174-4d03-8512-4231e06e56d4"
      },
      "outputs": [
        {
          "output_type": "display_data",
          "data": {
            "text/plain": [
              "<Figure size 720x360 with 1 Axes>"
            ],
            "image/png": "[encoded data removed]"
          },
          "metadata": {}
        }
      ],
      "source": [
        "plt.figure(figsize=(10,5))\n",
        "plt.scatter(tsne_results[:, 0], tsne_results[:, 1])\n",
        "plt.xticks([])\n",
        "plt.yticks([])\n",
        "plt.axis('off')\n",
        "plt.show()"
      ]
    },
    {
      "cell_type": "markdown",
      "id": "b19571b7",
      "metadata": {
        "id": "b19571b7"
      },
      "source": [
        "t-SNE has also created a singular shape with a very small number of outliers."
      ]
    },
    {
      "cell_type": "code",
      "execution_count": null,
      "id": "363230ad",
      "metadata": {
        "id": "363230ad"
      },
      "outputs": [],
      "source": [
        "umap_results = umap.UMAP(n_neighbors=20, \n",
        "                         min_dist=0.2, \n",
        "                         metric='correlation').fit_transform(df_cv)"
      ]
    },
    {
      "cell_type": "code",
      "execution_count": null,
      "id": "7fc0b7ac",
      "metadata": {
        "scrolled": true,
        "colab": {
          "base_uri": "https://localhost:8080/",
          "height": 303
        },
        "id": "7fc0b7ac",
        "outputId": "d1306c69-4eef-458d-9bd5-577b068bf071"
      },
      "outputs": [
        {
          "output_type": "display_data",
          "data": {
            "text/plain": [
              "<Figure size 720x360 with 1 Axes>"
            ],
            "image/png": "[encoded data removed]"
          },
          "metadata": {}
        }
      ],
      "source": [
        "plt.figure(figsize=(10,5))\n",
        "plt.scatter(umap_results[:, 0], umap_results[:, 1])\n",
        "plt.xticks([])\n",
        "plt.yticks([])\n",
        "plt.axis('off')\n",
        "plt.show()"
      ]
    },
    {
      "cell_type": "markdown",
      "id": "ec9e33ac",
      "metadata": {
        "id": "ec9e33ac"
      },
      "source": [
        "The Umap results look more promising for finding a few different clusters, There's still a distinct group where most of our books lie, but now there are a couple of groups outside of it. This shows promise for finding books that our outlier to the norm."
      ]
    },
    {
      "cell_type": "markdown",
      "id": "217b76b0",
      "metadata": {
        "id": "217b76b0"
      },
      "source": [
        "## Clustering Aglorithms\n",
        "\n",
        "We will now use the Umap results to identify and explore some of the outlying books and try to determine what makes their discriptions different."
      ]
    },
    {
      "cell_type": "code",
      "execution_count": null,
      "id": "ac8c37a4",
      "metadata": {
        "scrolled": true,
        "colab": {
          "base_uri": "https://localhost:8080/",
          "height": 298
        },
        "id": "ac8c37a4",
        "outputId": "05314fbf-b7b7-4102-e5df-792005452b86"
      },
      "outputs": [
        {
          "output_type": "display_data",
          "data": {
            "text/plain": [
              "<Figure size 432x288 with 1 Axes>"
            ],
            "image/png": "[encoded data removed]"
          },
          "metadata": {
            "needs_background": "light"
          }
        },
        {
          "output_type": "stream",
          "name": "stdout",
          "text": [
            "The silhouette score of the KMeans solution: 0.34957826137542725\n"
          ]
        }
      ],
      "source": [
        "# KMeans Clustering\n",
        "\n",
        "mini_batch_k_means = MiniBatchKMeans(n_clusters = 3)\n",
        "mini_batch_k_means.fit(umap_results)\n",
        "k_means_predict = mini_batch_k_means.predict(umap_results)\n",
        "\n",
        "plt.scatter(umap_results[:, 0], umap_results[:, 1], c=k_means_predict)\n",
        "plt.title('KMeans Clustering on UMAP Results')\n",
        "plt.show()\n",
        "\n",
        "print(\"The silhouette score of the KMeans solution: {}\"\n",
        "      .format(metrics.silhouette_score(umap_results, k_means_predict, metric='euclidean')))\n"
      ]
    },
    {
      "cell_type": "markdown",
      "id": "055fe3d2",
      "metadata": {
        "id": "055fe3d2"
      },
      "source": [
        "Out central blob is not linearly separable so K-means will not help us."
      ]
    },
    {
      "cell_type": "code",
      "execution_count": null,
      "id": "92ac6067",
      "metadata": {
        "colab": {
          "base_uri": "https://localhost:8080/"
        },
        "id": "92ac6067",
        "outputId": "2124810e-9daa-498e-ac29-a9a372aec5c4"
      },
      "outputs": [
        {
          "output_type": "stream",
          "name": "stdout",
          "text": [
            "Found 34 clusters.\n",
            "The silhouette score of the DBSCAN solution: -0.2496422380208969\n"
          ]
        }
      ],
      "source": [
        "dbscan_cluster = DBSCAN(eps=0.2, min_samples=5)\n",
        "clusters = dbscan_cluster.fit_predict(umap_results)\n",
        "\n",
        "print('Found {} clusters.'.format(max(clusters)))\n",
        "print(\"The silhouette score of the DBSCAN solution: {}\"\n",
        "      .format(metrics.silhouette_score(umap_results, clusters, metric='euclidean')))"
      ]
    },
    {
      "cell_type": "code",
      "execution_count": null,
      "id": "bdaa7839",
      "metadata": {
        "scrolled": false,
        "colab": {
          "base_uri": "https://localhost:8080/",
          "height": 265
        },
        "id": "bdaa7839",
        "outputId": "b377400e-ba41-4809-e621-ca5f0e677296"
      },
      "outputs": [
        {
          "output_type": "display_data",
          "data": {
            "text/plain": [
              "<Figure size 432x288 with 1 Axes>"
            ],
            "image/png": "[encoded data removed]"
          },
          "metadata": {
            "needs_background": "light"
          }
        }
      ],
      "source": [
        "plt.scatter(umap_results[:, 0], umap_results[:, 1], c=clusters)\n",
        "plt.show()\n"
      ]
    },
    {
      "cell_type": "markdown",
      "id": "985eac2d",
      "metadata": {
        "id": "985eac2d"
      },
      "source": [
        "Visually, DBSCAN looks to identify some clusters outliying the main one. This has the affect of making our silhouette score negative as a large proportion of the main cluster points end up closer to these edge clusters.\n",
        "\n",
        "Lets investigate some of the books that look like they're outside the \"zero\" cluster"
      ]
    },
    {
      "cell_type": "markdown",
      "id": "560da50b",
      "metadata": {
        "id": "560da50b"
      },
      "source": [
        "## Outside the Main Cluster"
      ]
    },
    {
      "cell_type": "code",
      "execution_count": null,
      "id": "b6799f7d",
      "metadata": {
        "colab": {
          "base_uri": "https://localhost:8080/",
          "height": 337
        },
        "id": "b6799f7d",
        "outputId": "8b137c2a-085e-43f6-9c18-2a962047e3ad"
      },
      "outputs": [
        {
          "output_type": "execute_result",
          "data": {
            "text/plain": [
              "   book_id                            original_title  \\\n",
              "0        1                          The Hunger Games   \n",
              "1        2  Harry Potter and the Philosopher's Stone   \n",
              "2        3                                  Twilight   \n",
              "3        4                     To Kill a Mockingbird   \n",
              "4        5                          The Great Gatsby   \n",
              "\n",
              "                                         description  cluster  \n",
              "0  win mean fame and fortun lose mean certain dea...        0  \n",
              "1  harri potter s life is miser hi parent are dea...        0  \n",
              "2  about three thing i wa absolut posit first edw...        0  \n",
              "3  the unforgett novel of a childhood in a sleepi...        0  \n",
              "4  altern cover edit isbn isbn the great gatsbi f...        0  "
            ],
            "text/html": [
              "\n",
              "  <div id=\"df-78913ac1-933d-452d-8c44-db47de6d3516\">\n",
              "    <div class=\"colab-df-container\">\n",
              "      <div>\n",
              "<style scoped>\n",
              "    .dataframe tbody tr th:only-of-type {\n",
              "        vertical-align: middle;\n",
              "    }\n",
              "\n",
              "    .dataframe tbody tr th {\n",
              "        vertical-align: top;\n",
              "    }\n",
              "\n",
              "    .dataframe thead th {\n",
              "        text-align: right;\n",
              "    }\n",
              "</style>\n",
              "<table border=\"1\" class=\"dataframe\">\n",
              "  <thead>\n",
              "    <tr style=\"text-align: right;\">\n",
              "      <th></th>\n",
              "      <th>book_id</th>\n",
              "      <th>original_title</th>\n",
              "      <th>description</th>\n",
              "      <th>cluster</th>\n",
              "    </tr>\n",
              "  </thead>\n",
              "  <tbody>\n",
              "    <tr>\n",
              "      <th>0</th>\n",
              "      <td>1</td>\n",
              "      <td>The Hunger Games</td>\n",
              "      <td>win mean fame and fortun lose mean certain dea...</td>\n",
              "      <td>0</td>\n",
              "    </tr>\n",
              "    <tr>\n",
              "      <th>1</th>\n",
              "      <td>2</td>\n",
              "      <td>Harry Potter and the Philosopher's Stone</td>\n",
              "      <td>harri potter s life is miser hi parent are dea...</td>\n",
              "      <td>0</td>\n",
              "    </tr>\n",
              "    <tr>\n",
              "      <th>2</th>\n",
              "      <td>3</td>\n",
              "      <td>Twilight</td>\n",
              "      <td>about three thing i wa absolut posit first edw...</td>\n",
              "      <td>0</td>\n",
              "    </tr>\n",
              "    <tr>\n",
              "      <th>3</th>\n",
              "      <td>4</td>\n",
              "      <td>To Kill a Mockingbird</td>\n",
              "      <td>the unforgett novel of a childhood in a sleepi...</td>\n",
              "      <td>0</td>\n",
              "    </tr>\n",
              "    <tr>\n",
              "      <th>4</th>\n",
              "      <td>5</td>\n",
              "      <td>The Great Gatsby</td>\n",
              "      <td>altern cover edit isbn isbn the great gatsbi f...</td>\n",
              "      <td>0</td>\n",
              "    </tr>\n",
              "  </tbody>\n",
              "</table>\n",
              "</div>\n",
              "      <button class=\"colab-df-convert\" onclick=\"convertToInteractive('df-78913ac1-933d-452d-8c44-db47de6d3516')\"\n",
              "              title=\"Convert this dataframe to an interactive table.\"\n",
              "              style=\"display:none;\">\n",
              "        \n",
              "  <svg xmlns=\"http://www.w3.org/2000/svg\" height=\"24px\"viewBox=\"0 0 24 24\"\n",
              "       width=\"24px\">\n",
              "    <path d=\"M0 0h24v24H0V0z\" fill=\"none\"/>\n",
              "    <path d=\"M18.56 5.44l.94 2.06.94-2.06 2.06-.94-2.06-.94-.94-2.06-.94 2.06-2.06.94zm-11 1L8.5 8.5l.94-2.06 2.06-.94-2.06-.94L8.5 2.5l-.94 2.06-2.06.94zm10 10l.94 2.06.94-2.06 2.06-.94-2.06-.94-.94-2.06-.94 2.06-2.06.94z\"/><path d=\"M17.41 7.96l-1.37-1.37c-.4-.4-.92-.59-1.43-.59-.52 0-1.04.2-1.43.59L10.3 9.45l-7.72 7.72c-.78.78-.78 2.05 0 2.83L4 21.41c.39.39.9.59 1.41.59.51 0 1.02-.2 1.41-.59l7.78-7.78 2.81-2.81c.8-.78.8-2.07 0-2.86zM5.41 20L4 18.59l7.72-7.72 1.47 1.35L5.41 20z\"/>\n",
              "  </svg>\n",
              "      </button>\n",
              "      \n",
              "  <style>\n",
              "    .colab-df-container {\n",
              "      display:flex;\n",
              "      flex-wrap:wrap;\n",
              "      gap: 12px;\n",
              "    }\n",
              "\n",
              "    .colab-df-convert {\n",
              "      background-color: #E8F0FE;\n",
              "      border: none;\n",
              "      border-radius: 50%;\n",
              "      cursor: pointer;\n",
              "      display: none;\n",
              "      fill: #1967D2;\n",
              "      height: 32px;\n",
              "      padding: 0 0 0 0;\n",
              "      width: 32px;\n",
              "    }\n",
              "\n",
              "    .colab-df-convert:hover {\n",
              "      background-color: #E2EBFA;\n",
              "      box-shadow: 0px 1px 2px rgba(60, 64, 67, 0.3), 0px 1px 3px 1px rgba(60, 64, 67, 0.15);\n",
              "      fill: #174EA6;\n",
              "    }\n",
              "\n",
              "    [theme=dark] .colab-df-convert {\n",
              "      background-color: #3B4455;\n",
              "      fill: #D2E3FC;\n",
              "    }\n",
              "\n",
              "    [theme=dark] .colab-df-convert:hover {\n",
              "      background-color: #434B5C;\n",
              "      box-shadow: 0px 1px 3px 1px rgba(0, 0, 0, 0.15);\n",
              "      filter: drop-shadow(0px 1px 2px rgba(0, 0, 0, 0.3));\n",
              "      fill: #FFFFFF;\n",
              "    }\n",
              "  </style>\n",
              "\n",
              "      <script>\n",
              "        const buttonEl =\n",
              "          document.querySelector('#df-78913ac1-933d-452d-8c44-db47de6d3516 button.colab-df-convert');\n",
              "        buttonEl.style.display =\n",
              "          google.colab.kernel.accessAllowed ? 'block' : 'none';\n",
              "\n",
              "        async function convertToInteractive(key) {\n",
              "          const element = document.querySelector('#df-78913ac1-933d-452d-8c44-db47de6d3516');\n",
              "          const dataTable =\n",
              "            await google.colab.kernel.invokeFunction('convertToInteractive',\n",
              "                                                     [key], {});\n",
              "          if (!dataTable) return;\n",
              "\n",
              "          const docLinkHtml = 'Like what you see? Visit the ' +\n",
              "            '<a target=\"_blank\" href=https://colab.research.google.com/notebooks/data_table.ipynb>data table notebook</a>'\n",
              "            + ' to learn more about interactive tables.';\n",
              "          element.innerHTML = '';\n",
              "          dataTable['output_type'] = 'display_data';\n",
              "          await google.colab.output.renderOutput(dataTable, element);\n",
              "          const docLink = document.createElement('div');\n",
              "          docLink.innerHTML = docLinkHtml;\n",
              "          element.appendChild(docLink);\n",
              "        }\n",
              "      </script>\n",
              "    </div>\n",
              "  </div>\n",
              "  "
            ]
          },
          "metadata": {},
          "execution_count": 21
        }
      ],
      "source": [
        "df['cluster'] = clusters\n",
        "df.head()"
      ]
    },
    {
      "cell_type": "code",
      "execution_count": null,
      "id": "48084501",
      "metadata": {
        "scrolled": false,
        "colab": {
          "base_uri": "https://localhost:8080/",
          "height": 337
        },
        "id": "48084501",
        "outputId": "86927dcf-e9f2-496f-e441-79ba499c4a10"
      },
      "outputs": [
        {
          "output_type": "execute_result",
          "data": {
            "text/plain": [
              "   book_id                                     original_title  \\\n",
              "0       35                                       O Alquimista   \n",
              "1       51                                      City of Bones   \n",
              "2       60  The Curious Incident of the Dog in the Night-Time   \n",
              "3       83                               A Tale of Two Cities   \n",
              "4      108                        Confessions of a Shopaholic   \n",
              "\n",
              "                                         description  cluster  \n",
              "0  paulo coelho s masterpiec tell the mystic stor...        1  \n",
              "1  when fifteen year old clari fray head out to t...        2  \n",
              "2  christoph john franci boon know all the countr...        3  \n",
              "3  after eighteen year a a polit prison in the ba...       23  \n",
              "4  becki bloomwood ha a fabul flat in london s tr...        4  "
            ],
            "text/html": [
              "\n",
              "  <div id=\"df-12cebec4-a345-44fd-b18e-561f1b7ecd30\">\n",
              "    <div class=\"colab-df-container\">\n",
              "      <div>\n",
              "<style scoped>\n",
              "    .dataframe tbody tr th:only-of-type {\n",
              "        vertical-align: middle;\n",
              "    }\n",
              "\n",
              "    .dataframe tbody tr th {\n",
              "        vertical-align: top;\n",
              "    }\n",
              "\n",
              "    .dataframe thead th {\n",
              "        text-align: right;\n",
              "    }\n",
              "</style>\n",
              "<table border=\"1\" class=\"dataframe\">\n",
              "  <thead>\n",
              "    <tr style=\"text-align: right;\">\n",
              "      <th></th>\n",
              "      <th>book_id</th>\n",
              "      <th>original_title</th>\n",
              "      <th>description</th>\n",
              "      <th>cluster</th>\n",
              "    </tr>\n",
              "  </thead>\n",
              "  <tbody>\n",
              "    <tr>\n",
              "      <th>0</th>\n",
              "      <td>35</td>\n",
              "      <td>O Alquimista</td>\n",
              "      <td>paulo coelho s masterpiec tell the mystic stor...</td>\n",
              "      <td>1</td>\n",
              "    </tr>\n",
              "    <tr>\n",
              "      <th>1</th>\n",
              "      <td>51</td>\n",
              "      <td>City of Bones</td>\n",
              "      <td>when fifteen year old clari fray head out to t...</td>\n",
              "      <td>2</td>\n",
              "    </tr>\n",
              "    <tr>\n",
              "      <th>2</th>\n",
              "      <td>60</td>\n",
              "      <td>The Curious Incident of the Dog in the Night-Time</td>\n",
              "      <td>christoph john franci boon know all the countr...</td>\n",
              "      <td>3</td>\n",
              "    </tr>\n",
              "    <tr>\n",
              "      <th>3</th>\n",
              "      <td>83</td>\n",
              "      <td>A Tale of Two Cities</td>\n",
              "      <td>after eighteen year a a polit prison in the ba...</td>\n",
              "      <td>23</td>\n",
              "    </tr>\n",
              "    <tr>\n",
              "      <th>4</th>\n",
              "      <td>108</td>\n",
              "      <td>Confessions of a Shopaholic</td>\n",
              "      <td>becki bloomwood ha a fabul flat in london s tr...</td>\n",
              "      <td>4</td>\n",
              "    </tr>\n",
              "  </tbody>\n",
              "</table>\n",
              "</div>\n",
              "      <button class=\"colab-df-convert\" onclick=\"convertToInteractive('df-12cebec4-a345-44fd-b18e-561f1b7ecd30')\"\n",
              "              title=\"Convert this dataframe to an interactive table.\"\n",
              "              style=\"display:none;\">\n",
              "        \n",
              "  <svg xmlns=\"http://www.w3.org/2000/svg\" height=\"24px\"viewBox=\"0 0 24 24\"\n",
              "       width=\"24px\">\n",
              "    <path d=\"M0 0h24v24H0V0z\" fill=\"none\"/>\n",
              "    <path d=\"M18.56 5.44l.94 2.06.94-2.06 2.06-.94-2.06-.94-.94-2.06-.94 2.06-2.06.94zm-11 1L8.5 8.5l.94-2.06 2.06-.94-2.06-.94L8.5 2.5l-.94 2.06-2.06.94zm10 10l.94 2.06.94-2.06 2.06-.94-2.06-.94-.94-2.06-.94 2.06-2.06.94z\"/><path d=\"M17.41 7.96l-1.37-1.37c-.4-.4-.92-.59-1.43-.59-.52 0-1.04.2-1.43.59L10.3 9.45l-7.72 7.72c-.78.78-.78 2.05 0 2.83L4 21.41c.39.39.9.59 1.41.59.51 0 1.02-.2 1.41-.59l7.78-7.78 2.81-2.81c.8-.78.8-2.07 0-2.86zM5.41 20L4 18.59l7.72-7.72 1.47 1.35L5.41 20z\"/>\n",
              "  </svg>\n",
              "      </button>\n",
              "      \n",
              "  <style>\n",
              "    .colab-df-container {\n",
              "      display:flex;\n",
              "      flex-wrap:wrap;\n",
              "      gap: 12px;\n",
              "    }\n",
              "\n",
              "    .colab-df-convert {\n",
              "      background-color: #E8F0FE;\n",
              "      border: none;\n",
              "      border-radius: 50%;\n",
              "      cursor: pointer;\n",
              "      display: none;\n",
              "      fill: #1967D2;\n",
              "      height: 32px;\n",
              "      padding: 0 0 0 0;\n",
              "      width: 32px;\n",
              "    }\n",
              "\n",
              "    .colab-df-convert:hover {\n",
              "      background-color: #E2EBFA;\n",
              "      box-shadow: 0px 1px 2px rgba(60, 64, 67, 0.3), 0px 1px 3px 1px rgba(60, 64, 67, 0.15);\n",
              "      fill: #174EA6;\n",
              "    }\n",
              "\n",
              "    [theme=dark] .colab-df-convert {\n",
              "      background-color: #3B4455;\n",
              "      fill: #D2E3FC;\n",
              "    }\n",
              "\n",
              "    [theme=dark] .colab-df-convert:hover {\n",
              "      background-color: #434B5C;\n",
              "      box-shadow: 0px 1px 3px 1px rgba(0, 0, 0, 0.15);\n",
              "      filter: drop-shadow(0px 1px 2px rgba(0, 0, 0, 0.3));\n",
              "      fill: #FFFFFF;\n",
              "    }\n",
              "  </style>\n",
              "\n",
              "      <script>\n",
              "        const buttonEl =\n",
              "          document.querySelector('#df-12cebec4-a345-44fd-b18e-561f1b7ecd30 button.colab-df-convert');\n",
              "        buttonEl.style.display =\n",
              "          google.colab.kernel.accessAllowed ? 'block' : 'none';\n",
              "\n",
              "        async function convertToInteractive(key) {\n",
              "          const element = document.querySelector('#df-12cebec4-a345-44fd-b18e-561f1b7ecd30');\n",
              "          const dataTable =\n",
              "            await google.colab.kernel.invokeFunction('convertToInteractive',\n",
              "                                                     [key], {});\n",
              "          if (!dataTable) return;\n",
              "\n",
              "          const docLinkHtml = 'Like what you see? Visit the ' +\n",
              "            '<a target=\"_blank\" href=https://colab.research.google.com/notebooks/data_table.ipynb>data table notebook</a>'\n",
              "            + ' to learn more about interactive tables.';\n",
              "          element.innerHTML = '';\n",
              "          dataTable['output_type'] = 'display_data';\n",
              "          await google.colab.output.renderOutput(dataTable, element);\n",
              "          const docLink = document.createElement('div');\n",
              "          docLink.innerHTML = docLinkHtml;\n",
              "          element.appendChild(docLink);\n",
              "        }\n",
              "      </script>\n",
              "    </div>\n",
              "  </div>\n",
              "  "
            ]
          },
          "metadata": {},
          "execution_count": 22
        }
      ],
      "source": [
        "outliers = df[df['cluster'] != 0]\n",
        "outliers = df.merge(outliers[['book_id']], how='inner', on='book_id').copy()\n",
        "\n",
        "outliers.head()"
      ]
    },
    {
      "cell_type": "code",
      "execution_count": null,
      "id": "e6867c3d",
      "metadata": {
        "scrolled": false,
        "colab": {
          "base_uri": "https://localhost:8080/",
          "height": 281
        },
        "id": "e6867c3d",
        "outputId": "2b5fc49f-3bd4-4914-c092-c45071143535"
      },
      "outputs": [
        {
          "output_type": "display_data",
          "data": {
            "text/plain": [
              "<Figure size 432x288 with 1 Axes>"
            ],
            "image/png": "[encoded data removed]"
          },
          "metadata": {
            "needs_background": "light"
          }
        }
      ],
      "source": [
        "plt.hist(outliers['cluster'], bins=range(outliers['cluster'].max()), align='left')\n",
        "plt.title('Clusters Excluding the Big One')\n",
        "plt.show()"
      ]
    },
    {
      "cell_type": "markdown",
      "id": "69914c35",
      "metadata": {
        "id": "69914c35"
      },
      "source": [
        "All of these clusters contain less than a hundered members. We'll look to see which one's have the most members and then take a deeper dive on each."
      ]
    },
    {
      "cell_type": "code",
      "execution_count": null,
      "id": "c818c83c",
      "metadata": {
        "scrolled": false,
        "colab": {
          "base_uri": "https://localhost:8080/"
        },
        "id": "c818c83c",
        "outputId": "baa62159-ca9d-4de3-b58c-5adc0189f557"
      },
      "outputs": [
        {
          "output_type": "execute_result",
          "data": {
            "text/plain": [
              "24    43\n",
              "18    42\n",
              "5     40\n",
              "9     28\n",
              "28    24\n",
              "Name: cluster, dtype: int64"
            ]
          },
          "metadata": {},
          "execution_count": 24
        }
      ],
      "source": [
        "outliers['cluster'].value_counts().sort_values(ascending=False).head()"
      ]
    },
    {
      "cell_type": "markdown",
      "id": "2822e47a",
      "metadata": {
        "id": "2822e47a"
      },
      "source": [
        "Clusters 24, 18, and 5 have the most members. Lets take a look at the most common words and some sample books from each."
      ]
    },
    {
      "cell_type": "code",
      "execution_count": null,
      "id": "58417db7",
      "metadata": {
        "id": "58417db7"
      },
      "outputs": [],
      "source": [
        "# function to simplify making the wordcloud for each cluster\n",
        "def outlier_wordcloud(cluster):\n",
        "    cluster_ids = outliers[outliers['cluster'] == cluster]['book_id'].to_list()\n",
        "    cluster_df = df[df['book_id'].isin(cluster_ids)].copy()\n",
        "    \n",
        "    word_dist = get_word_dist(cluster_df)\n",
        "\n",
        "    wc = WordCloud(background_color=\"white\",width=3000,height=3000, max_words=25,relative_scaling=0.5,normalize_plurals=False).generate_from_frequencies(word_dist)\n",
        "    plt.imshow(wc)\n",
        "    \n",
        "# function to get the word frequencies from the descriptions of the cluster descriptions\n",
        "def get_word_dist(cluster_df):\n",
        "\n",
        "    # concatenate descriptions and tokenize into words\n",
        "    descriptions = cluster_df['description'].str.cat(sep=' ')\n",
        "    words = nltk.tokenize.word_tokenize(descriptions)\n",
        "\n",
        "    # filter out English stopwords\n",
        "    stop_words = set(stopwords.words('english'))\n",
        "    filtered_words = [w for w in words if not w in stop_words]\n",
        "\n",
        "    # get the frequency of words and sort by the most common\n",
        "    word_dist = nltk.FreqDist(filtered_words)\n",
        "    word_dist = {k: v for k, v in sorted(word_dist.items(), key=lambda item: item[1], reverse=True)}\n",
        "\n",
        "    \n",
        "    return word_dist"
      ]
    },
    {
      "cell_type": "code",
      "execution_count": null,
      "id": "1b1d7073",
      "metadata": {
        "scrolled": true,
        "colab": {
          "base_uri": "https://localhost:8080/",
          "height": 269
        },
        "id": "1b1d7073",
        "outputId": "7bf14b7d-4a65-4267-ba8e-72dec41ade7f"
      },
      "outputs": [
        {
          "output_type": "display_data",
          "data": {
            "text/plain": [
              "<Figure size 432x288 with 1 Axes>"
            ],
            "image/png": "[encoded data removed]"
          },
          "metadata": {
            "needs_background": "light"
          }
        }
      ],
      "source": [
        "outlier_wordcloud(24)"
      ]
    },
    {
      "cell_type": "code",
      "execution_count": null,
      "id": "7dd3d702",
      "metadata": {
        "colab": {
          "base_uri": "https://localhost:8080/",
          "height": 580
        },
        "id": "7dd3d702",
        "outputId": "ed684135-910f-4958-df46-06a187a828ee"
      },
      "outputs": [
        {
          "output_type": "execute_result",
          "data": {
            "text/plain": [
              "     book_id                    original_title  \\\n",
              "569     8822                Concealed in Death   \n",
              "509     7633     Born in Death (In Death, #23)   \n",
              "520     7911  Divided in Death (In Death, #18)   \n",
              "566     8785               Thankless in Death    \n",
              "553     8615                Celebrity in Death   \n",
              "593     9528                Obsession in Death   \n",
              "307     4423                Immortal in Death    \n",
              "419     6325                  Memory in Death    \n",
              "358     5340                Vengeance in Death   \n",
              "295     4134                  The Killing Game   \n",
              "\n",
              "                                           description  cluster  \n",
              "569  in a decrepit long empti new york build lieute...       24  \n",
              "509  eve dalla ha a grisli doubl homicid to solv wh...       24  \n",
              "520  reva ewe a former member of the secret servic ...       24  \n",
              "566  in the latest suspens thriller in the new york...       24  \n",
              "553  lieuten eve dalla is no parti girl but she s m...       24  \n",
              "593  there s a thin line between hero worship and d...       24  \n",
              "307  when polic lieuten eve dalla investig the murd...       24  \n",
              "419  the new york time bestsel author of survivor i...       24  \n",
              "358  he is an expert with the latest technolog a ma...       24  \n",
              "295  a merciless killer on the hunt an innoc child ...       24  "
            ],
            "text/html": [
              "\n",
              "  <div id=\"df-85403766-643c-4cf2-af6b-131025f302c0\">\n",
              "    <div class=\"colab-df-container\">\n",
              "      <div>\n",
              "<style scoped>\n",
              "    .dataframe tbody tr th:only-of-type {\n",
              "        vertical-align: middle;\n",
              "    }\n",
              "\n",
              "    .dataframe tbody tr th {\n",
              "        vertical-align: top;\n",
              "    }\n",
              "\n",
              "    .dataframe thead th {\n",
              "        text-align: right;\n",
              "    }\n",
              "</style>\n",
              "<table border=\"1\" class=\"dataframe\">\n",
              "  <thead>\n",
              "    <tr style=\"text-align: right;\">\n",
              "      <th></th>\n",
              "      <th>book_id</th>\n",
              "      <th>original_title</th>\n",
              "      <th>description</th>\n",
              "      <th>cluster</th>\n",
              "    </tr>\n",
              "  </thead>\n",
              "  <tbody>\n",
              "    <tr>\n",
              "      <th>569</th>\n",
              "      <td>8822</td>\n",
              "      <td>Concealed in Death</td>\n",
              "      <td>in a decrepit long empti new york build lieute...</td>\n",
              "      <td>24</td>\n",
              "    </tr>\n",
              "    <tr>\n",
              "      <th>509</th>\n",
              "      <td>7633</td>\n",
              "      <td>Born in Death (In Death, #23)</td>\n",
              "      <td>eve dalla ha a grisli doubl homicid to solv wh...</td>\n",
              "      <td>24</td>\n",
              "    </tr>\n",
              "    <tr>\n",
              "      <th>520</th>\n",
              "      <td>7911</td>\n",
              "      <td>Divided in Death (In Death, #18)</td>\n",
              "      <td>reva ewe a former member of the secret servic ...</td>\n",
              "      <td>24</td>\n",
              "    </tr>\n",
              "    <tr>\n",
              "      <th>566</th>\n",
              "      <td>8785</td>\n",
              "      <td>Thankless in Death</td>\n",
              "      <td>in the latest suspens thriller in the new york...</td>\n",
              "      <td>24</td>\n",
              "    </tr>\n",
              "    <tr>\n",
              "      <th>553</th>\n",
              "      <td>8615</td>\n",
              "      <td>Celebrity in Death</td>\n",
              "      <td>lieuten eve dalla is no parti girl but she s m...</td>\n",
              "      <td>24</td>\n",
              "    </tr>\n",
              "    <tr>\n",
              "      <th>593</th>\n",
              "      <td>9528</td>\n",
              "      <td>Obsession in Death</td>\n",
              "      <td>there s a thin line between hero worship and d...</td>\n",
              "      <td>24</td>\n",
              "    </tr>\n",
              "    <tr>\n",
              "      <th>307</th>\n",
              "      <td>4423</td>\n",
              "      <td>Immortal in Death</td>\n",
              "      <td>when polic lieuten eve dalla investig the murd...</td>\n",
              "      <td>24</td>\n",
              "    </tr>\n",
              "    <tr>\n",
              "      <th>419</th>\n",
              "      <td>6325</td>\n",
              "      <td>Memory in Death</td>\n",
              "      <td>the new york time bestsel author of survivor i...</td>\n",
              "      <td>24</td>\n",
              "    </tr>\n",
              "    <tr>\n",
              "      <th>358</th>\n",
              "      <td>5340</td>\n",
              "      <td>Vengeance in Death</td>\n",
              "      <td>he is an expert with the latest technolog a ma...</td>\n",
              "      <td>24</td>\n",
              "    </tr>\n",
              "    <tr>\n",
              "      <th>295</th>\n",
              "      <td>4134</td>\n",
              "      <td>The Killing Game</td>\n",
              "      <td>a merciless killer on the hunt an innoc child ...</td>\n",
              "      <td>24</td>\n",
              "    </tr>\n",
              "  </tbody>\n",
              "</table>\n",
              "</div>\n",
              "      <button class=\"colab-df-convert\" onclick=\"convertToInteractive('df-85403766-643c-4cf2-af6b-131025f302c0')\"\n",
              "              title=\"Convert this dataframe to an interactive table.\"\n",
              "              style=\"display:none;\">\n",
              "        \n",
              "  <svg xmlns=\"http://www.w3.org/2000/svg\" height=\"24px\"viewBox=\"0 0 24 24\"\n",
              "       width=\"24px\">\n",
              "    <path d=\"M0 0h24v24H0V0z\" fill=\"none\"/>\n",
              "    <path d=\"M18.56 5.44l.94 2.06.94-2.06 2.06-.94-2.06-.94-.94-2.06-.94 2.06-2.06.94zm-11 1L8.5 8.5l.94-2.06 2.06-.94-2.06-.94L8.5 2.5l-.94 2.06-2.06.94zm10 10l.94 2.06.94-2.06 2.06-.94-2.06-.94-.94-2.06-.94 2.06-2.06.94z\"/><path d=\"M17.41 7.96l-1.37-1.37c-.4-.4-.92-.59-1.43-.59-.52 0-1.04.2-1.43.59L10.3 9.45l-7.72 7.72c-.78.78-.78 2.05 0 2.83L4 21.41c.39.39.9.59 1.41.59.51 0 1.02-.2 1.41-.59l7.78-7.78 2.81-2.81c.8-.78.8-2.07 0-2.86zM5.41 20L4 18.59l7.72-7.72 1.47 1.35L5.41 20z\"/>\n",
              "  </svg>\n",
              "      </button>\n",
              "      \n",
              "  <style>\n",
              "    .colab-df-container {\n",
              "      display:flex;\n",
              "      flex-wrap:wrap;\n",
              "      gap: 12px;\n",
              "    }\n",
              "\n",
              "    .colab-df-convert {\n",
              "      background-color: #E8F0FE;\n",
              "      border: none;\n",
              "      border-radius: 50%;\n",
              "      cursor: pointer;\n",
              "      display: none;\n",
              "      fill: #1967D2;\n",
              "      height: 32px;\n",
              "      padding: 0 0 0 0;\n",
              "      width: 32px;\n",
              "    }\n",
              "\n",
              "    .colab-df-convert:hover {\n",
              "      background-color: #E2EBFA;\n",
              "      box-shadow: 0px 1px 2px rgba(60, 64, 67, 0.3), 0px 1px 3px 1px rgba(60, 64, 67, 0.15);\n",
              "      fill: #174EA6;\n",
              "    }\n",
              "\n",
              "    [theme=dark] .colab-df-convert {\n",
              "      background-color: #3B4455;\n",
              "      fill: #D2E3FC;\n",
              "    }\n",
              "\n",
              "    [theme=dark] .colab-df-convert:hover {\n",
              "      background-color: #434B5C;\n",
              "      box-shadow: 0px 1px 3px 1px rgba(0, 0, 0, 0.15);\n",
              "      filter: drop-shadow(0px 1px 2px rgba(0, 0, 0, 0.3));\n",
              "      fill: #FFFFFF;\n",
              "    }\n",
              "  </style>\n",
              "\n",
              "      <script>\n",
              "        const buttonEl =\n",
              "          document.querySelector('#df-85403766-643c-4cf2-af6b-131025f302c0 button.colab-df-convert');\n",
              "        buttonEl.style.display =\n",
              "          google.colab.kernel.accessAllowed ? 'block' : 'none';\n",
              "\n",
              "        async function convertToInteractive(key) {\n",
              "          const element = document.querySelector('#df-85403766-643c-4cf2-af6b-131025f302c0');\n",
              "          const dataTable =\n",
              "            await google.colab.kernel.invokeFunction('convertToInteractive',\n",
              "                                                     [key], {});\n",
              "          if (!dataTable) return;\n",
              "\n",
              "          const docLinkHtml = 'Like what you see? Visit the ' +\n",
              "            '<a target=\"_blank\" href=https://colab.research.google.com/notebooks/data_table.ipynb>data table notebook</a>'\n",
              "            + ' to learn more about interactive tables.';\n",
              "          element.innerHTML = '';\n",
              "          dataTable['output_type'] = 'display_data';\n",
              "          await google.colab.output.renderOutput(dataTable, element);\n",
              "          const docLink = document.createElement('div');\n",
              "          docLink.innerHTML = docLinkHtml;\n",
              "          element.appendChild(docLink);\n",
              "        }\n",
              "      </script>\n",
              "    </div>\n",
              "  </div>\n",
              "  "
            ]
          },
          "metadata": {},
          "execution_count": 33
        }
      ],
      "source": [
        "outliers[outliers['cluster'] == 24].sample(n=10, random_state = 42)"
      ]
    },
    {
      "cell_type": "markdown",
      "id": "1fb47087",
      "metadata": {
        "id": "1fb47087"
      },
      "source": [
        "We've identified a cluster containing Nora Rober's \"In Death\" series owing to the names of the characters in the book descriptions."
      ]
    },
    {
      "cell_type": "code",
      "execution_count": null,
      "id": "dc52ca4f",
      "metadata": {
        "scrolled": true,
        "colab": {
          "base_uri": "https://localhost:8080/",
          "height": 269
        },
        "id": "dc52ca4f",
        "outputId": "f275fe5b-abaf-46d2-e4e4-391453d32904"
      },
      "outputs": [
        {
          "output_type": "display_data",
          "data": {
            "text/plain": [
              "<Figure size 432x288 with 1 Axes>"
            ],
            "image/png": "[encoded data removed]"
          },
          "metadata": {
            "needs_background": "light"
          }
        }
      ],
      "source": [
        "outlier_wordcloud(18)"
      ]
    },
    {
      "cell_type": "code",
      "execution_count": null,
      "id": "324a9901",
      "metadata": {
        "scrolled": false,
        "colab": {
          "base_uri": "https://localhost:8080/",
          "height": 459
        },
        "id": "324a9901",
        "outputId": "96514a9b-5046-45fc-e71f-7284eba82e10"
      },
      "outputs": [
        {
          "output_type": "execute_result",
          "data": {
            "text/plain": [
              "     book_id        original_title  \\\n",
              "411     6185           Secret Prey   \n",
              "218     2918  What She Left Behind   \n",
              "168     2217              Hallowed   \n",
              "435     6561          Eyes of Prey   \n",
              "95      1276             Unearthly   \n",
              "589     9468           Mortal Prey   \n",
              "339     5109           Chosen Prey   \n",
              "528     8133          Certain Prey   \n",
              "537     8315  The Mermaid's Sister   \n",
              "161     2134             Evernight   \n",
              "\n",
              "                                           description  cluster  \n",
              "411  the compani chairman lay dead in the wood hi o...       18  \n",
              "218  in thi stun new novel the acclaim author of th...       18  \n",
              "168  for month clara gardner train to face the fire...       18  \n",
              "435  lieuten davenport s saniti wa nearli shatter b...       18  \n",
              "95   in the begin there s a boy stand in the tree c...       18  \n",
              "589  year ago luca davenport almost die at the hand...       18  \n",
              "339  against the unforgett backdrop of new york nea...       18  \n",
              "528  attorney carmel loan is beauti intellig ambiti...       18  \n",
              "537  winner amazon breakthrough novel award young a...       18  \n",
              "161  bianca want to escap she s been uproot from he...       18  "
            ],
            "text/html": [
              "\n",
              "  <div id=\"df-740f2046-827d-40d6-bf99-af2c615bbb20\">\n",
              "    <div class=\"colab-df-container\">\n",
              "      <div>\n",
              "<style scoped>\n",
              "    .dataframe tbody tr th:only-of-type {\n",
              "        vertical-align: middle;\n",
              "    }\n",
              "\n",
              "    .dataframe tbody tr th {\n",
              "        vertical-align: top;\n",
              "    }\n",
              "\n",
              "    .dataframe thead th {\n",
              "        text-align: right;\n",
              "    }\n",
              "</style>\n",
              "<table border=\"1\" class=\"dataframe\">\n",
              "  <thead>\n",
              "    <tr style=\"text-align: right;\">\n",
              "      <th></th>\n",
              "      <th>book_id</th>\n",
              "      <th>original_title</th>\n",
              "      <th>description</th>\n",
              "      <th>cluster</th>\n",
              "    </tr>\n",
              "  </thead>\n",
              "  <tbody>\n",
              "    <tr>\n",
              "      <th>411</th>\n",
              "      <td>6185</td>\n",
              "      <td>Secret Prey</td>\n",
              "      <td>the compani chairman lay dead in the wood hi o...</td>\n",
              "      <td>18</td>\n",
              "    </tr>\n",
              "    <tr>\n",
              "      <th>218</th>\n",
              "      <td>2918</td>\n",
              "      <td>What She Left Behind</td>\n",
              "      <td>in thi stun new novel the acclaim author of th...</td>\n",
              "      <td>18</td>\n",
              "    </tr>\n",
              "    <tr>\n",
              "      <th>168</th>\n",
              "      <td>2217</td>\n",
              "      <td>Hallowed</td>\n",
              "      <td>for month clara gardner train to face the fire...</td>\n",
              "      <td>18</td>\n",
              "    </tr>\n",
              "    <tr>\n",
              "      <th>435</th>\n",
              "      <td>6561</td>\n",
              "      <td>Eyes of Prey</td>\n",
              "      <td>lieuten davenport s saniti wa nearli shatter b...</td>\n",
              "      <td>18</td>\n",
              "    </tr>\n",
              "    <tr>\n",
              "      <th>95</th>\n",
              "      <td>1276</td>\n",
              "      <td>Unearthly</td>\n",
              "      <td>in the begin there s a boy stand in the tree c...</td>\n",
              "      <td>18</td>\n",
              "    </tr>\n",
              "    <tr>\n",
              "      <th>589</th>\n",
              "      <td>9468</td>\n",
              "      <td>Mortal Prey</td>\n",
              "      <td>year ago luca davenport almost die at the hand...</td>\n",
              "      <td>18</td>\n",
              "    </tr>\n",
              "    <tr>\n",
              "      <th>339</th>\n",
              "      <td>5109</td>\n",
              "      <td>Chosen Prey</td>\n",
              "      <td>against the unforgett backdrop of new york nea...</td>\n",
              "      <td>18</td>\n",
              "    </tr>\n",
              "    <tr>\n",
              "      <th>528</th>\n",
              "      <td>8133</td>\n",
              "      <td>Certain Prey</td>\n",
              "      <td>attorney carmel loan is beauti intellig ambiti...</td>\n",
              "      <td>18</td>\n",
              "    </tr>\n",
              "    <tr>\n",
              "      <th>537</th>\n",
              "      <td>8315</td>\n",
              "      <td>The Mermaid's Sister</td>\n",
              "      <td>winner amazon breakthrough novel award young a...</td>\n",
              "      <td>18</td>\n",
              "    </tr>\n",
              "    <tr>\n",
              "      <th>161</th>\n",
              "      <td>2134</td>\n",
              "      <td>Evernight</td>\n",
              "      <td>bianca want to escap she s been uproot from he...</td>\n",
              "      <td>18</td>\n",
              "    </tr>\n",
              "  </tbody>\n",
              "</table>\n",
              "</div>\n",
              "      <button class=\"colab-df-convert\" onclick=\"convertToInteractive('df-740f2046-827d-40d6-bf99-af2c615bbb20')\"\n",
              "              title=\"Convert this dataframe to an interactive table.\"\n",
              "              style=\"display:none;\">\n",
              "        \n",
              "  <svg xmlns=\"http://www.w3.org/2000/svg\" height=\"24px\"viewBox=\"0 0 24 24\"\n",
              "       width=\"24px\">\n",
              "    <path d=\"M0 0h24v24H0V0z\" fill=\"none\"/>\n",
              "    <path d=\"M18.56 5.44l.94 2.06.94-2.06 2.06-.94-2.06-.94-.94-2.06-.94 2.06-2.06.94zm-11 1L8.5 8.5l.94-2.06 2.06-.94-2.06-.94L8.5 2.5l-.94 2.06-2.06.94zm10 10l.94 2.06.94-2.06 2.06-.94-2.06-.94-.94-2.06-.94 2.06-2.06.94z\"/><path d=\"M17.41 7.96l-1.37-1.37c-.4-.4-.92-.59-1.43-.59-.52 0-1.04.2-1.43.59L10.3 9.45l-7.72 7.72c-.78.78-.78 2.05 0 2.83L4 21.41c.39.39.9.59 1.41.59.51 0 1.02-.2 1.41-.59l7.78-7.78 2.81-2.81c.8-.78.8-2.07 0-2.86zM5.41 20L4 18.59l7.72-7.72 1.47 1.35L5.41 20z\"/>\n",
              "  </svg>\n",
              "      </button>\n",
              "      \n",
              "  <style>\n",
              "    .colab-df-container {\n",
              "      display:flex;\n",
              "      flex-wrap:wrap;\n",
              "      gap: 12px;\n",
              "    }\n",
              "\n",
              "    .colab-df-convert {\n",
              "      background-color: #E8F0FE;\n",
              "      border: none;\n",
              "      border-radius: 50%;\n",
              "      cursor: pointer;\n",
              "      display: none;\n",
              "      fill: #1967D2;\n",
              "      height: 32px;\n",
              "      padding: 0 0 0 0;\n",
              "      width: 32px;\n",
              "    }\n",
              "\n",
              "    .colab-df-convert:hover {\n",
              "      background-color: #E2EBFA;\n",
              "      box-shadow: 0px 1px 2px rgba(60, 64, 67, 0.3), 0px 1px 3px 1px rgba(60, 64, 67, 0.15);\n",
              "      fill: #174EA6;\n",
              "    }\n",
              "\n",
              "    [theme=dark] .colab-df-convert {\n",
              "      background-color: #3B4455;\n",
              "      fill: #D2E3FC;\n",
              "    }\n",
              "\n",
              "    [theme=dark] .colab-df-convert:hover {\n",
              "      background-color: #434B5C;\n",
              "      box-shadow: 0px 1px 3px 1px rgba(0, 0, 0, 0.15);\n",
              "      filter: drop-shadow(0px 1px 2px rgba(0, 0, 0, 0.3));\n",
              "      fill: #FFFFFF;\n",
              "    }\n",
              "  </style>\n",
              "\n",
              "      <script>\n",
              "        const buttonEl =\n",
              "          document.querySelector('#df-740f2046-827d-40d6-bf99-af2c615bbb20 button.colab-df-convert');\n",
              "        buttonEl.style.display =\n",
              "          google.colab.kernel.accessAllowed ? 'block' : 'none';\n",
              "\n",
              "        async function convertToInteractive(key) {\n",
              "          const element = document.querySelector('#df-740f2046-827d-40d6-bf99-af2c615bbb20');\n",
              "          const dataTable =\n",
              "            await google.colab.kernel.invokeFunction('convertToInteractive',\n",
              "                                                     [key], {});\n",
              "          if (!dataTable) return;\n",
              "\n",
              "          const docLinkHtml = 'Like what you see? Visit the ' +\n",
              "            '<a target=\"_blank\" href=https://colab.research.google.com/notebooks/data_table.ipynb>data table notebook</a>'\n",
              "            + ' to learn more about interactive tables.';\n",
              "          element.innerHTML = '';\n",
              "          dataTable['output_type'] = 'display_data';\n",
              "          await google.colab.output.renderOutput(dataTable, element);\n",
              "          const docLink = document.createElement('div');\n",
              "          docLink.innerHTML = docLinkHtml;\n",
              "          element.appendChild(docLink);\n",
              "        }\n",
              "      </script>\n",
              "    </div>\n",
              "  </div>\n",
              "  "
            ]
          },
          "metadata": {},
          "execution_count": 35
        }
      ],
      "source": [
        "outliers[outliers['cluster'] == 18].sample(n=10, random_state = 42)"
      ]
    },
    {
      "cell_type": "markdown",
      "id": "91482d5c",
      "metadata": {
        "id": "91482d5c"
      },
      "source": [
        "Another police detective series. This one by John Sanford."
      ]
    },
    {
      "cell_type": "code",
      "execution_count": null,
      "id": "dfc7963e",
      "metadata": {
        "scrolled": true,
        "colab": {
          "base_uri": "https://localhost:8080/",
          "height": 269
        },
        "id": "dfc7963e",
        "outputId": "4a261fec-131e-403b-c97b-092a4816b734"
      },
      "outputs": [
        {
          "output_type": "display_data",
          "data": {
            "text/plain": [
              "<Figure size 432x288 with 1 Axes>"
            ],
            "image/png": "[encoded data removed]"
          },
          "metadata": {
            "needs_background": "light"
          }
        }
      ],
      "source": [
        "outlier_wordcloud(5)"
      ]
    },
    {
      "cell_type": "code",
      "execution_count": null,
      "id": "db30440f",
      "metadata": {
        "scrolled": true,
        "colab": {
          "base_uri": "https://localhost:8080/",
          "height": 580
        },
        "id": "db30440f",
        "outputId": "2a5dcadf-e044-4175-905f-3eea2b895ae3"
      },
      "outputs": [
        {
          "output_type": "execute_result",
          "data": {
            "text/plain": [
              "     book_id                                    original_title  \\\n",
              "248     3422                                 Come Away with Me   \n",
              "233     3167                                   Executive Power   \n",
              "220     2964                                         Kill Shot   \n",
              "372     5541         Among the Impostors (Shadow Children, #2)   \n",
              "80      1098                                  The Longest Ride   \n",
              "213     2830                                   Consent to Kill   \n",
              "546     8535  Star Wars: From the Adventures of Luke Skywalker   \n",
              "393     5852                                       The Mothers   \n",
              "598     9614                                  The Faithful Spy   \n",
              "113     1573                                   A Painted House   \n",
              "\n",
              "                                           description  cluster  \n",
              "248  an altern cover edit can be found here be conf...        5  \n",
              "233  cia superag mitch rapp battl global terror in ...        5  \n",
              "220  new york time bestsel author of american assas...        5  \n",
              "372  luke garner is terrifi out of hide for the fir...        5  \n",
              "80   ira levinson is in troubl at nineti one year o...        5  \n",
              "213  for year mitch rapp s bold action have save th...        5  \n",
              "546  luke skywalk challeng the stormtroop of a dist...        5  \n",
              "393  set within a contemporari black commun in sout...        5  \n",
              "598  john well penetr al qaeda for ten year until o...        5  \n",
              "113  the hill peopl and the mexican arriv on the sa...        5  "
            ],
            "text/html": [
              "\n",
              "  <div id=\"df-e7937ae9-73b9-45da-9b38-458e578bd649\">\n",
              "    <div class=\"colab-df-container\">\n",
              "      <div>\n",
              "<style scoped>\n",
              "    .dataframe tbody tr th:only-of-type {\n",
              "        vertical-align: middle;\n",
              "    }\n",
              "\n",
              "    .dataframe tbody tr th {\n",
              "        vertical-align: top;\n",
              "    }\n",
              "\n",
              "    .dataframe thead th {\n",
              "        text-align: right;\n",
              "    }\n",
              "</style>\n",
              "<table border=\"1\" class=\"dataframe\">\n",
              "  <thead>\n",
              "    <tr style=\"text-align: right;\">\n",
              "      <th></th>\n",
              "      <th>book_id</th>\n",
              "      <th>original_title</th>\n",
              "      <th>description</th>\n",
              "      <th>cluster</th>\n",
              "    </tr>\n",
              "  </thead>\n",
              "  <tbody>\n",
              "    <tr>\n",
              "      <th>248</th>\n",
              "      <td>3422</td>\n",
              "      <td>Come Away with Me</td>\n",
              "      <td>an altern cover edit can be found here be conf...</td>\n",
              "      <td>5</td>\n",
              "    </tr>\n",
              "    <tr>\n",
              "      <th>233</th>\n",
              "      <td>3167</td>\n",
              "      <td>Executive Power</td>\n",
              "      <td>cia superag mitch rapp battl global terror in ...</td>\n",
              "      <td>5</td>\n",
              "    </tr>\n",
              "    <tr>\n",
              "      <th>220</th>\n",
              "      <td>2964</td>\n",
              "      <td>Kill Shot</td>\n",
              "      <td>new york time bestsel author of american assas...</td>\n",
              "      <td>5</td>\n",
              "    </tr>\n",
              "    <tr>\n",
              "      <th>372</th>\n",
              "      <td>5541</td>\n",
              "      <td>Among the Impostors (Shadow Children, #2)</td>\n",
              "      <td>luke garner is terrifi out of hide for the fir...</td>\n",
              "      <td>5</td>\n",
              "    </tr>\n",
              "    <tr>\n",
              "      <th>80</th>\n",
              "      <td>1098</td>\n",
              "      <td>The Longest Ride</td>\n",
              "      <td>ira levinson is in troubl at nineti one year o...</td>\n",
              "      <td>5</td>\n",
              "    </tr>\n",
              "    <tr>\n",
              "      <th>213</th>\n",
              "      <td>2830</td>\n",
              "      <td>Consent to Kill</td>\n",
              "      <td>for year mitch rapp s bold action have save th...</td>\n",
              "      <td>5</td>\n",
              "    </tr>\n",
              "    <tr>\n",
              "      <th>546</th>\n",
              "      <td>8535</td>\n",
              "      <td>Star Wars: From the Adventures of Luke Skywalker</td>\n",
              "      <td>luke skywalk challeng the stormtroop of a dist...</td>\n",
              "      <td>5</td>\n",
              "    </tr>\n",
              "    <tr>\n",
              "      <th>393</th>\n",
              "      <td>5852</td>\n",
              "      <td>The Mothers</td>\n",
              "      <td>set within a contemporari black commun in sout...</td>\n",
              "      <td>5</td>\n",
              "    </tr>\n",
              "    <tr>\n",
              "      <th>598</th>\n",
              "      <td>9614</td>\n",
              "      <td>The Faithful Spy</td>\n",
              "      <td>john well penetr al qaeda for ten year until o...</td>\n",
              "      <td>5</td>\n",
              "    </tr>\n",
              "    <tr>\n",
              "      <th>113</th>\n",
              "      <td>1573</td>\n",
              "      <td>A Painted House</td>\n",
              "      <td>the hill peopl and the mexican arriv on the sa...</td>\n",
              "      <td>5</td>\n",
              "    </tr>\n",
              "  </tbody>\n",
              "</table>\n",
              "</div>\n",
              "      <button class=\"colab-df-convert\" onclick=\"convertToInteractive('df-e7937ae9-73b9-45da-9b38-458e578bd649')\"\n",
              "              title=\"Convert this dataframe to an interactive table.\"\n",
              "              style=\"display:none;\">\n",
              "        \n",
              "  <svg xmlns=\"http://www.w3.org/2000/svg\" height=\"24px\"viewBox=\"0 0 24 24\"\n",
              "       width=\"24px\">\n",
              "    <path d=\"M0 0h24v24H0V0z\" fill=\"none\"/>\n",
              "    <path d=\"M18.56 5.44l.94 2.06.94-2.06 2.06-.94-2.06-.94-.94-2.06-.94 2.06-2.06.94zm-11 1L8.5 8.5l.94-2.06 2.06-.94-2.06-.94L8.5 2.5l-.94 2.06-2.06.94zm10 10l.94 2.06.94-2.06 2.06-.94-2.06-.94-.94-2.06-.94 2.06-2.06.94z\"/><path d=\"M17.41 7.96l-1.37-1.37c-.4-.4-.92-.59-1.43-.59-.52 0-1.04.2-1.43.59L10.3 9.45l-7.72 7.72c-.78.78-.78 2.05 0 2.83L4 21.41c.39.39.9.59 1.41.59.51 0 1.02-.2 1.41-.59l7.78-7.78 2.81-2.81c.8-.78.8-2.07 0-2.86zM5.41 20L4 18.59l7.72-7.72 1.47 1.35L5.41 20z\"/>\n",
              "  </svg>\n",
              "      </button>\n",
              "      \n",
              "  <style>\n",
              "    .colab-df-container {\n",
              "      display:flex;\n",
              "      flex-wrap:wrap;\n",
              "      gap: 12px;\n",
              "    }\n",
              "\n",
              "    .colab-df-convert {\n",
              "      background-color: #E8F0FE;\n",
              "      border: none;\n",
              "      border-radius: 50%;\n",
              "      cursor: pointer;\n",
              "      display: none;\n",
              "      fill: #1967D2;\n",
              "      height: 32px;\n",
              "      padding: 0 0 0 0;\n",
              "      width: 32px;\n",
              "    }\n",
              "\n",
              "    .colab-df-convert:hover {\n",
              "      background-color: #E2EBFA;\n",
              "      box-shadow: 0px 1px 2px rgba(60, 64, 67, 0.3), 0px 1px 3px 1px rgba(60, 64, 67, 0.15);\n",
              "      fill: #174EA6;\n",
              "    }\n",
              "\n",
              "    [theme=dark] .colab-df-convert {\n",
              "      background-color: #3B4455;\n",
              "      fill: #D2E3FC;\n",
              "    }\n",
              "\n",
              "    [theme=dark] .colab-df-convert:hover {\n",
              "      background-color: #434B5C;\n",
              "      box-shadow: 0px 1px 3px 1px rgba(0, 0, 0, 0.15);\n",
              "      filter: drop-shadow(0px 1px 2px rgba(0, 0, 0, 0.3));\n",
              "      fill: #FFFFFF;\n",
              "    }\n",
              "  </style>\n",
              "\n",
              "      <script>\n",
              "        const buttonEl =\n",
              "          document.querySelector('#df-e7937ae9-73b9-45da-9b38-458e578bd649 button.colab-df-convert');\n",
              "        buttonEl.style.display =\n",
              "          google.colab.kernel.accessAllowed ? 'block' : 'none';\n",
              "\n",
              "        async function convertToInteractive(key) {\n",
              "          const element = document.querySelector('#df-e7937ae9-73b9-45da-9b38-458e578bd649');\n",
              "          const dataTable =\n",
              "            await google.colab.kernel.invokeFunction('convertToInteractive',\n",
              "                                                     [key], {});\n",
              "          if (!dataTable) return;\n",
              "\n",
              "          const docLinkHtml = 'Like what you see? Visit the ' +\n",
              "            '<a target=\"_blank\" href=https://colab.research.google.com/notebooks/data_table.ipynb>data table notebook</a>'\n",
              "            + ' to learn more about interactive tables.';\n",
              "          element.innerHTML = '';\n",
              "          dataTable['output_type'] = 'display_data';\n",
              "          await google.colab.output.renderOutput(dataTable, element);\n",
              "          const docLink = document.createElement('div');\n",
              "          docLink.innerHTML = docLinkHtml;\n",
              "          element.appendChild(docLink);\n",
              "        }\n",
              "      </script>\n",
              "    </div>\n",
              "  </div>\n",
              "  "
            ]
          },
          "metadata": {},
          "execution_count": 37
        }
      ],
      "source": [
        "outliers[outliers['cluster'] == 5].sample(n=10, random_state = 42)"
      ]
    },
    {
      "cell_type": "markdown",
      "id": "e2661cac",
      "metadata": {
        "id": "e2661cac"
      },
      "source": [
        "This cluster has a number of \"Mitch Rapp\" series about a CIA operative in the middle east.\n"
      ]
    },
    {
      "cell_type": "markdown",
      "id": "f49b9342",
      "metadata": {
        "id": "f49b9342"
      },
      "source": [
        "## Potential Improvements\n",
        "\n",
        "The bag-of-words did not provide particluarly illuminating results. Our most interesting clusters consisted of books from the most frequently reviews series on Goodreads. Futher inspection of our \"outlier\" clusters would likely show similar results.\n",
        "\n",
        "Further refinements to the dimensionality reduction. The distribution of the data with UMap was most promising but the coustering methods were less than ideal for differnt reasons. KMeans gave us a silhouette score of 0.3496 but did not meet the isotropic assumptions of KMeans. A kernel trick may help our central blob to become more linearly separable. DBSCAN was able to identify the central cluster but the silhouette score was -0.2496. Not a strong case for meaninful clusters. The main reason I used the DBSCAN was KMeans failure to linearly separate the data.\n",
        "\n",
        "Some improvements on the NLP pipeline could be made with word embeddings as some similar words are still being counted differently. Bi and trigrams might also help us to find some separation between our books."
      ]
    }
  ],
  "metadata": {
    "kernelspec": {
      "display_name": "Python 3 (ipykernel)",
      "language": "python",
      "name": "python3"
    },
    "language_info": {
      "codemirror_mode": {
        "name": "ipython",
        "version": 3
      },
      "file_extension": ".py",
      "mimetype": "text/x-python",
      "name": "python",
      "nbconvert_exporter": "python",
      "pygments_lexer": "ipython3",
      "version": "3.9.7"
    },
    "colab": {
      "name": "Clustering Books by Synopsis.ipynb",
      "provenance": []
    }
  },
  "nbformat": 4,
  "nbformat_minor": 5
}